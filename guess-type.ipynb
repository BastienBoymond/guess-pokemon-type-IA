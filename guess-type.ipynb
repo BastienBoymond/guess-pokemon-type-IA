{
 "cells": [
  {
   "cell_type": "code",
   "execution_count": 348,
   "metadata": {},
   "outputs": [],
   "source": [
    "import pandas as pd\n",
    "import numpy as np\n",
    "\n",
    "dataset = pd.read_csv(\"pokemon-csv/Pokemon.csv\")"
   ]
  },
  {
   "cell_type": "code",
   "execution_count": 349,
   "metadata": {},
   "outputs": [],
   "source": [
    "WithoutType = dataset.drop(columns=[\"Name\", \"Type 1\", \"Type 2\"])\n",
    "TypeOne = dataset[\"Type 1\"].to_list()\n",
    "WithoutType = np.array(WithoutType)\n",
    "TypeOne = np.array(TypeOne)"
   ]
  },
  {
   "cell_type": "code",
   "execution_count": 350,
   "metadata": {},
   "outputs": [],
   "source": [
    "from sklearn.model_selection import train_test_split\n",
    "from sklearn.neural_network import MLPClassifier\n",
    "\n",
    "x_train, x_test, y_train, y_test = train_test_split(WithoutType, TypeOne, test_size=0.2, random_state=0)\n",
    "\n",
    "clf = MLPClassifier(solver='lbfgs', alpha=1e-10, hidden_layer_sizes=(2 ,2, 2), activation = 'logistic', random_state=5, max_iter=15000, learning_rate_init = 0.1)"
   ]
  },
  {
   "cell_type": "code",
   "execution_count": 351,
   "metadata": {},
   "outputs": [
    {
     "name": "stdout",
     "output_type": "stream",
     "text": [
      "Training...\n"
     ]
    },
    {
     "data": {
      "text/plain": [
       "MLPClassifier(activation='logistic', alpha=1e-10, hidden_layer_sizes=(2, 2, 2),\n",
       "              learning_rate_init=0.1, max_iter=15000, random_state=5,\n",
       "              solver='lbfgs')"
      ]
     },
     "execution_count": 351,
     "metadata": {},
     "output_type": "execute_result"
    }
   ],
   "source": [
    "print(\"Training...\")\n",
    "clf.fit(x_train, y_train)"
   ]
  },
  {
   "cell_type": "code",
   "execution_count": 352,
   "metadata": {},
   "outputs": [
    {
     "name": "stdout",
     "output_type": "stream",
     "text": [
      "Testing...\n"
     ]
    }
   ],
   "source": [
    "print(\"Testing...\")\n",
    "predict_test =  clf.predict(x_test)"
   ]
  },
  {
   "cell_type": "code",
   "execution_count": 353,
   "metadata": {},
   "outputs": [
    {
     "name": "stdout",
     "output_type": "stream",
     "text": [
      "              precision    recall  f1-score   support\n",
      "\n",
      "         Bug       0.00      0.00      0.00        12\n",
      "        Dark       0.00      0.00      0.00         6\n",
      "      Dragon       0.00      0.00      0.00         8\n",
      "    Electric       0.00      0.00      0.00         8\n",
      "       Fairy       0.00      0.00      0.00         3\n",
      "        Fire       0.00      0.00      0.00        10\n",
      "      Flying       0.00      0.00      0.00         3\n",
      "       Ghost       0.00      0.00      0.00         9\n",
      "       Grass       0.00      0.00      0.00        22\n",
      "      Ground       0.00      0.00      0.00         8\n",
      "         Ice       0.00      0.00      0.00         7\n",
      "      Normal       0.00      0.00      0.00        18\n",
      "      Poison       0.00      0.00      0.00         3\n",
      "     Psychic       0.00      0.00      0.00         9\n",
      "        Rock       0.00      0.00      0.00        11\n",
      "       Steel       0.00      0.00      0.00         3\n",
      "       Water       0.12      1.00      0.22        20\n",
      "\n",
      "    accuracy                           0.12       160\n",
      "   macro avg       0.01      0.06      0.01       160\n",
      "weighted avg       0.02      0.12      0.03       160\n",
      "\n",
      "[[ 0  0  0  0  0  0  0  0  0  0  0  0  0  0  0  0 12]\n",
      " [ 0  0  0  0  0  0  0  0  0  0  0  0  0  0  0  0  6]\n",
      " [ 0  0  0  0  0  0  0  0  0  0  0  0  0  0  0  0  8]\n",
      " [ 0  0  0  0  0  0  0  0  0  0  0  0  0  0  0  0  8]\n",
      " [ 0  0  0  0  0  0  0  0  0  0  0  0  0  0  0  0  3]\n",
      " [ 0  0  0  0  0  0  0  0  0  0  0  0  0  0  0  0 10]\n",
      " [ 0  0  0  0  0  0  0  0  0  0  0  0  0  0  0  0  3]\n",
      " [ 0  0  0  0  0  0  0  0  0  0  0  0  0  0  0  0  9]\n",
      " [ 0  0  0  0  0  0  0  0  0  0  0  0  0  0  0  0 22]\n",
      " [ 0  0  0  0  0  0  0  0  0  0  0  0  0  0  0  0  8]\n",
      " [ 0  0  0  0  0  0  0  0  0  0  0  0  0  0  0  0  7]\n",
      " [ 0  0  0  0  0  0  0  0  0  0  0  0  0  0  0  0 18]\n",
      " [ 0  0  0  0  0  0  0  0  0  0  0  0  0  0  0  0  3]\n",
      " [ 0  0  0  0  0  0  0  0  0  0  0  0  0  0  0  0  9]\n",
      " [ 0  0  0  0  0  0  0  0  0  0  0  0  0  0  0  0 11]\n",
      " [ 0  0  0  0  0  0  0  0  0  0  0  0  0  0  0  0  3]\n",
      " [ 0  0  0  0  0  0  0  0  0  0  0  0  0  0  0  0 20]]\n"
     ]
    },
    {
     "name": "stderr",
     "output_type": "stream",
     "text": [
      "/home/bastien/.local/lib/python3.8/site-packages/sklearn/metrics/_classification.py:1308: UndefinedMetricWarning: Precision and F-score are ill-defined and being set to 0.0 in labels with no predicted samples. Use `zero_division` parameter to control this behavior.\n",
      "  _warn_prf(average, modifier, msg_start, len(result))\n",
      "/home/bastien/.local/lib/python3.8/site-packages/sklearn/metrics/_classification.py:1308: UndefinedMetricWarning: Precision and F-score are ill-defined and being set to 0.0 in labels with no predicted samples. Use `zero_division` parameter to control this behavior.\n",
      "  _warn_prf(average, modifier, msg_start, len(result))\n",
      "/home/bastien/.local/lib/python3.8/site-packages/sklearn/metrics/_classification.py:1308: UndefinedMetricWarning: Precision and F-score are ill-defined and being set to 0.0 in labels with no predicted samples. Use `zero_division` parameter to control this behavior.\n",
      "  _warn_prf(average, modifier, msg_start, len(result))\n"
     ]
    }
   ],
   "source": [
    "from sklearn.metrics import classification_report,confusion_matrix\n",
    "\n",
    "print(classification_report(y_test, predict_test))\n",
    "print(confusion_matrix(y_test, predict_test))"
   ]
  }
 ],
 "metadata": {
  "interpreter": {
   "hash": "916dbcbb3f70747c44a77c7bcd40155683ae19c65e1c03b4aa3499c5328201f1"
  },
  "kernelspec": {
   "display_name": "Python 3.8.10 64-bit",
   "language": "python",
   "name": "python3"
  },
  "language_info": {
   "codemirror_mode": {
    "name": "ipython",
    "version": 3
   },
   "file_extension": ".py",
   "mimetype": "text/x-python",
   "name": "python",
   "nbconvert_exporter": "python",
   "pygments_lexer": "ipython3",
   "version": "3.8.10"
  },
  "orig_nbformat": 4
 },
 "nbformat": 4,
 "nbformat_minor": 2
}
